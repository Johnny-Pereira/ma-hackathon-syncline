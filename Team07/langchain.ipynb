{
 "cells": [
  {
   "cell_type": "code",
   "execution_count": 1,
   "metadata": {},
   "outputs": [
    {
     "name": "stderr",
     "output_type": "stream",
     "text": [
      "c:\\Users\\savalgis\\AppData\\Local\\miniconda3\\envs\\Hackathon_2024\\lib\\site-packages\\langchain_core\\_api\\deprecation.py:117: LangChainDeprecationWarning: The class `langchain_community.embeddings.openai.OpenAIEmbeddings` was deprecated in langchain-community 0.0.9 and will be removed in 0.2.0. An updated version of the class exists in the langchain-openai package and should be used instead. To use it run `pip install -U langchain-openai` and import as `from langchain_openai import OpenAIEmbeddings`.\n",
      "  warn_deprecated(\n",
      "c:\\Users\\savalgis\\AppData\\Local\\miniconda3\\envs\\Hackathon_2024\\lib\\site-packages\\langchain_core\\_api\\deprecation.py:117: LangChainDeprecationWarning: The class `langchain_community.chat_models.openai.ChatOpenAI` was deprecated in langchain-community 0.0.10 and will be removed in 0.2.0. An updated version of the class exists in the langchain-openai package and should be used instead. To use it run `pip install -U langchain-openai` and import as `from langchain_openai import ChatOpenAI`.\n",
      "  warn_deprecated(\n"
     ]
    },
    {
     "data": {
      "text/plain": [
       "[Document(page_content='question might answer things.', metadata={'row': 499, 'source': \"We understand and that striving is what causes real learning. I'm just saying its not efficient to spend hours trying to debug something when a short question might answer things.\"}),\n",
       " Document(page_content='my thought and questions out there?', metadata={'row': 108, 'source': 'is there a general rule on how to start a topic here or do i just throw my thought and questions out there?'}),\n",
       " Document(page_content='sandbox just for testing', metadata={'row': 728, 'source': \"Well, I don't have a domain to associate it with, I'm trying to use their sandbox just for testing\"}),\n",
       " Document(page_content='=> {}), how can I do this test?', metadata={'row': 61, 'source': '@pmiralopes Best might be to authenticate the user in the test. Otherwise you can consider making your test call like service.remove(... , { _isTest: true } } and conditioning your auth hook like iff(context => !context.params._isTest, authhook()).\\r\\nHi guys, I’m new at Feathers, I’m having a problem when testing it, I’m making the basic test to create and update users, in the end in the after function I remove the users from the database, the problem is that it keeps not working as the remove function of the model has a hook that it states that it must be authenticated to remove users, as obviously I’m not passing the Token on Users.remove(null, () => {}), how can I do this test?'})]"
      ]
     },
     "execution_count": 1,
     "metadata": {},
     "output_type": "execute_result"
    }
   ],
   "source": [
    "import os\n",
    "import re\n",
    "import csv\n",
    "import json\n",
    "import time\n",
    "import base64\n",
    "import chromadb\n",
    "import openai\n",
    "import pandas as pd\n",
    "import streamlit as st\n",
    "\n",
    "from langchain.document_loaders import TextLoader\n",
    "from langchain.text_splitter import RecursiveCharacterTextSplitter\n",
    "from langchain.embeddings import OpenAIEmbeddings\n",
    "from langchain_community.vectorstores import Chroma\n",
    "from langchain.chat_models import ChatOpenAI\n",
    "from langchain.chains import create_qa_with_sources_chain\n",
    "from langchain.chains import ConversationalRetrievalChain\n",
    "\n",
    "from langchain_community.document_loaders.csv_loader import CSVLoader\n",
    "\n",
    "\n",
    "\n",
    "with open('config.json') as file:\n",
    "    config = json.load(file)\n",
    "\n",
    "openai.api_key = config.get('key')\n",
    "os.environ['OPENAI_API_KEY'] = config[\"key\"]\n",
    "\n",
    "\n",
    "\n",
    "loader = CSVLoader(\"messages.csv\",encoding=\"utf-8\", source_column=\"text\")\n",
    "data = loader.load()\n",
    "\n",
    "text_splitter =RecursiveCharacterTextSplitter(\n",
    "\n",
    "    chunk_size = 100,\n",
    "    chunk_overlap = 20,\n",
    "    length_function = len,\n",
    "    is_separator_regex=False\n",
    "\n",
    ")\n",
    "documents = text_splitter.split_documents(data)\n",
    "\n",
    "embeddings_model = OpenAIEmbeddings()\n",
    "db = Chroma.from_documents(documents, embeddings_model)\n",
    "\n",
    "retriever = db.as_retriever(search_type=\"similarity_score_threshold\", search_kwargs={\"score_threshold\": 0.5})\n",
    "docs = retriever.get_relevant_documents(\"question to test\")\n",
    "llm_src = ChatOpenAI(temperature=0, model=\"gpt-4-1106-preview\")\n",
    "docs"
   ]
  }
 ],
 "metadata": {
  "kernelspec": {
   "display_name": "Hackathon_2024",
   "language": "python",
   "name": "python3"
  },
  "language_info": {
   "codemirror_mode": {
    "name": "ipython",
    "version": 3
   },
   "file_extension": ".py",
   "mimetype": "text/x-python",
   "name": "python",
   "nbconvert_exporter": "python",
   "pygments_lexer": "ipython3",
   "version": "3.10.13"
  }
 },
 "nbformat": 4,
 "nbformat_minor": 2
}
